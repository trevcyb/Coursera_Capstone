{
 "cells": [
  {
   "cell_type": "markdown",
   "metadata": {},
   "source": [
    "### Seattle Accident Severity"
   ]
  },
  {
   "cell_type": "markdown",
   "metadata": {},
   "source": [
    "This notebook will be used to generate a model to predict the severity of an accident occurring in the Seattle area, given external conditions."
   ]
  },
  {
   "cell_type": "code",
   "execution_count": 1,
   "metadata": {},
   "outputs": [
    {
     "name": "stdout",
     "output_type": "stream",
     "text": [
      "Hello Capstone Project Course!\n"
     ]
    }
   ],
   "source": [
    "print('Hello Capstone Project Course!')"
   ]
  },
  {
   "cell_type": "markdown",
   "metadata": {},
   "source": [
    "## Business Understanding"
   ]
  },
  {
   "cell_type": "markdown",
   "metadata": {},
   "source": [
    "In a world where commuting is inevitable, for work, leisure or otherwise, accidents seem to be unavoidable due to the sheer density of cars on the road and a need to get from point A to B as fast as possible. Accidents also tend to affect others as a source of traffic congestion, especially in areas of higher population density. \n",
    "\n",
    "In a motor vehicle, the risk of an accident is always present, however, it's likelihood as well as severity can be affected by many external factors such as visibility, road conditions, weather conditions etc. These factors are mostly out of our control, however, it would be extremely helpful if we were to know just how much these factors can contribute to the severity of an accident happening, to educate the driver to exercise more caution in certain conditions and circumstances as well as to provide alternative routes to avoid such an unfortunate event."
   ]
  },
  {
   "cell_type": "code",
   "execution_count": null,
   "metadata": {},
   "outputs": [],
   "source": []
  }
 ],
 "metadata": {
  "kernelspec": {
   "display_name": "Python 3",
   "language": "python",
   "name": "python3"
  },
  "language_info": {
   "codemirror_mode": {
    "name": "ipython",
    "version": 3
   },
   "file_extension": ".py",
   "mimetype": "text/x-python",
   "name": "python",
   "nbconvert_exporter": "python",
   "pygments_lexer": "ipython3",
   "version": "3.7.4"
  }
 },
 "nbformat": 4,
 "nbformat_minor": 2
}
